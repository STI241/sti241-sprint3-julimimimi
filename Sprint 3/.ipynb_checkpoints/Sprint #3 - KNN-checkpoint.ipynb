{
 "cells": [
  {
   "cell_type": "code",
   "execution_count": 1,
   "id": "2e96793d",
   "metadata": {},
   "outputs": [
    {
     "data": {
      "application/vnd.jupyter.widget-view+json": {
       "model_id": "5d57f58d2f20474e81fe2dfd079f69b3",
       "version_major": 2,
       "version_minor": 0
      },
      "text/plain": [
       "VBox(children=(Dropdown(description='Usuario:', options=('Jhohanson', 'Karol', 'Alexander', 'Santiago GM', 'Is…"
      ]
     },
     "metadata": {},
     "output_type": "display_data"
    }
   ],
   "source": [
    "#Importamos la libreria / datos necesarios \n",
    "import pandas as pd\n",
    "from sklearn.metrics.pairwise import cosine_similarity\n",
    "import ipywidgets as widgets\n",
    "from IPython.display import display, clear_output\n",
    "import numpy as np\n",
    "import matplotlib.pyplot as plt\n",
    "\n",
    "data = pd.read_excel('PizzaDb.xlsx', index_col=0)\n",
    "users = data.columns.tolist()\n",
    "\n",
    "#Creamos la interfaz\n",
    "user_dropdown = widgets.Dropdown(options=users, description='Usuario:')\n",
    "k_neighbors_input = widgets.IntText(value=5, description='Número de vecinos:')\n",
    "search_button = widgets.Button(description='Buscar')\n",
    "output = widgets.Output()\n",
    "\n",
    "#Calculamos la similitud y vecinos más cercanos\n",
    "def search_neighbors(*args):\n",
    "    with output:\n",
    "        clear_output(wait=True)\n",
    "        user = user_dropdown.value\n",
    "        k = k_neighbors_input.value\n",
    "\n",
    "        user_data = data[user]  \n",
    "        distances = {}  \n",
    "\n",
    "        for other_user in data.columns:\n",
    "            if other_user != user:\n",
    "                other_user_data = data[other_user]\n",
    "                distance = cosine_distance(user_data, other_user_data)\n",
    "                distances[other_user] = distance\n",
    "\n",
    "        nearest_neighbors = sorted(distances.items(), key=lambda x: x[1])[:k]\n",
    "\n",
    "        # Mostramos los resultados\n",
    "        print(f\"Los vecinos más cercanos de {user} son:\")\n",
    "        for neighbor, distance in nearest_neighbors:\n",
    "            print(f\"{neighbor} con una distancia de: {distance}\")\n",
    "\n",
    "        plot_radar(user, nearest_neighbors)\n",
    "\n",
    "def cosine_distance(vector1, vector2):\n",
    "    similarity = cosine_similarity([vector1], [vector2])\n",
    "    return 1 - similarity[0][0] \n",
    "\n",
    "#Mostramos el grafico de radar\n",
    "def plot_radar(user, nearest_neighbors):\n",
    "    neighbors = [neighbor for neighbor, _ in nearest_neighbors]\n",
    "    distances = [distance for _, distance in nearest_neighbors]\n",
    "\n",
    "    labels=np.array(neighbors)\n",
    "    stats=np.array(distances)\n",
    "\n",
    "    angles=np.linspace(0, 2*np.pi, len(labels), endpoint=False).tolist()\n",
    "\n",
    "    fig, ax = plt.subplots(figsize=(8, 8), subplot_kw=dict(polar=True))\n",
    "    ax.fill(angles, stats, color='red', alpha=0.25)\n",
    "    ax.plot(angles, stats, color='red', linewidth=2)\n",
    "    ax.set_yticklabels([])\n",
    "    ax.set_xticks(angles)\n",
    "    ax.set_xticklabels(labels, fontsize=10, fontweight='bold')\n",
    "\n",
    "    plt.title('Vecindad  de '+str(user))\n",
    "    plt.show()\n",
    "\n",
    "search_button.on_click(search_neighbors)\n",
    "\n",
    "#Mostrarmos la interfaz\n",
    "display(widgets.VBox([user_dropdown, k_neighbors_input, search_button, output]))"
   ]
  },
  {
   "cell_type": "code",
   "execution_count": null,
   "id": "3a4224ef",
   "metadata": {},
   "outputs": [],
   "source": []
  }
 ],
 "metadata": {
  "kernelspec": {
   "display_name": "Python 3 (ipykernel)",
   "language": "python",
   "name": "python3"
  },
  "language_info": {
   "codemirror_mode": {
    "name": "ipython",
    "version": 3
   },
   "file_extension": ".py",
   "mimetype": "text/x-python",
   "name": "python",
   "nbconvert_exporter": "python",
   "pygments_lexer": "ipython3",
   "version": "3.11.5"
  }
 },
 "nbformat": 4,
 "nbformat_minor": 5
}
